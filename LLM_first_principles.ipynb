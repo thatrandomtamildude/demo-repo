{
  "nbformat": 4,
  "nbformat_minor": 0,
  "metadata": {
    "colab": {
      "provenance": [],
      "gpuType": "T4",
      "include_colab_link": true
    },
    "kernelspec": {
      "name": "python3",
      "display_name": "Python 3"
    },
    "language_info": {
      "name": "python"
    },
    "accelerator": "GPU"
  },
  "cells": [
    {
      "cell_type": "markdown",
      "metadata": {
        "id": "view-in-github",
        "colab_type": "text"
      },
      "source": [
        "<a href=\"https://colab.research.google.com/github/thatrandomtamildude/demo-repo/blob/main/LLM_first_principles.ipynb\" target=\"_parent\"><img src=\"https://colab.research.google.com/assets/colab-badge.svg\" alt=\"Open In Colab\"/></a>"
      ]
    },
    {
      "cell_type": "code",
      "execution_count": 1,
      "metadata": {
        "colab": {
          "base_uri": "https://localhost:8080/"
        },
        "id": "z69fudJs1yCu",
        "outputId": "cc63c018-dd1c-4980-fbb9-97a6b6530fa7"
      },
      "outputs": [
        {
          "output_type": "stream",
          "name": "stdout",
          "text": [
            "matplotlib version: 3.10.0\n",
            "numpy version: 2.0.2\n",
            "tiktoken version: 0.11.0\n",
            "torch version: 2.8.0+cu126\n",
            "tensorflow version: 2.19.0\n"
          ]
        }
      ],
      "source": [
        "from importlib.metadata import version\n",
        "\n",
        "pkgs = [\"matplotlib\",\n",
        "        \"numpy\",\n",
        "        \"tiktoken\",\n",
        "        \"torch\",\n",
        "        \"tensorflow\"\n",
        "       ]\n",
        "for p in pkgs:\n",
        "    print(f\"{p} version: {version(p)}\")"
      ]
    },
    {
      "cell_type": "markdown",
      "source": [
        "# Setting up the basic informations of my model"
      ],
      "metadata": {
        "id": "snwMiuhVDEzP"
      }
    },
    {
      "cell_type": "code",
      "source": [
        "GPT_CONFIG_124M = {\n",
        "    \"vocab_size\": 50257,    # Vocabulary size\n",
        "    \"context_length\": 1024, # Context length\n",
        "    \"emb_dim\": 768,         # Embedding dimension\n",
        "    \"n_heads\": 12,          # Number of attention heads\n",
        "    \"n_layers\": 12,         # Number of layers\n",
        "    \"drop_rate\": 0.1,       # Dropout rate\n",
        "    \"qkv_bias\": False       # Query-Key-Value bias\n",
        "}"
      ],
      "metadata": {
        "id": "mySHEjHx5k2b"
      },
      "execution_count": 2,
      "outputs": []
    },
    {
      "cell_type": "markdown",
      "source": [
        "# I have created a dummy model to extract the input words to tokens and then prescribe it to below tiktoken"
      ],
      "metadata": {
        "id": "xzR7CVZeDL53"
      }
    },
    {
      "cell_type": "code",
      "source": [
        "import torch\n",
        "import torch.nn as nn\n",
        "\n",
        "\n",
        "class DummyGPTModel(nn.Module):\n",
        "    def __init__(self, cfg):\n",
        "        super().__init__()\n",
        "        self.tok_emb = nn.Embedding(cfg[\"vocab_size\"], cfg[\"emb_dim\"])\n",
        "        self.pos_emb = nn.Embedding(cfg[\"context_length\"], cfg[\"emb_dim\"])\n",
        "        self.drop_emb = nn.Dropout(cfg[\"drop_rate\"])\n",
        "\n",
        "        # Use a placeholder for TransformerBlock\n",
        "        self.trf_blocks = nn.Sequential(\n",
        "            *[DummyTransformerBlock(cfg) for _ in range(cfg[\"n_layers\"])])\n",
        "\n",
        "        # Use a placeholder for LayerNorm\n",
        "        self.final_norm = DummyLayerNorm(cfg[\"emb_dim\"])\n",
        "        self.out_head = nn.Linear(\n",
        "            cfg[\"emb_dim\"], cfg[\"vocab_size\"], bias=False\n",
        "        )\n",
        "\n",
        "    def forward(self, in_idx):\n",
        "        batch_size, seq_len = in_idx.shape\n",
        "        tok_embeds = self.tok_emb(in_idx)\n",
        "        pos_embeds = self.pos_emb(torch.arange(seq_len, device=in_idx.device))\n",
        "        x = tok_embeds + pos_embeds\n",
        "        x = self.drop_emb(x)\n",
        "        x = self.trf_blocks(x)\n",
        "        x = self.final_norm(x)\n",
        "        logits = self.out_head(x)\n",
        "        return logits\n",
        "\n",
        "\n",
        "class DummyTransformerBlock(nn.Module):\n",
        "    def __init__(self, cfg):\n",
        "        super().__init__()\n",
        "        # A simple placeholder\n",
        "\n",
        "    def forward(self, x):\n",
        "        # This block does nothing and just returns its input.\n",
        "        return x\n",
        "\n",
        "\n",
        "class DummyLayerNorm(nn.Module):\n",
        "    def __init__(self, normalized_shape, eps=1e-5):\n",
        "        super().__init__()\n",
        "        # The parameters here are just to mimic the LayerNorm interface.\n",
        "\n",
        "    def forward(self, x):\n",
        "        # This layer does nothing and just returns its input.\n",
        "        return x"
      ],
      "metadata": {
        "id": "AUlUpb9M5vq3"
      },
      "execution_count": 3,
      "outputs": []
    },
    {
      "cell_type": "code",
      "source": [
        "import tiktoken\n",
        "\n",
        "tokenizer = tiktoken.get_encoding(\"gpt2\")\n",
        "\n",
        "batch = []\n",
        "\n",
        "txt1 = \"Every effort moves you\"\n",
        "txt2 = \"Every day holds a\"\n",
        "\n",
        "batch.append(torch.tensor(tokenizer.encode(txt1)))\n",
        "batch.append(torch.tensor(tokenizer.encode(txt2)))\n",
        "batch = torch.stack(batch, dim=0)\n",
        "print(batch)"
      ],
      "metadata": {
        "colab": {
          "base_uri": "https://localhost:8080/"
        },
        "id": "6rBNtLtD6G6v",
        "outputId": "06d23f01-6252-4c6f-b754-2e9377052c70"
      },
      "execution_count": 4,
      "outputs": [
        {
          "output_type": "stream",
          "name": "stdout",
          "text": [
            "tensor([[6109, 3626, 6100,  345],\n",
            "        [6109, 1110, 6622,  257]])\n"
          ]
        }
      ]
    },
    {
      "cell_type": "code",
      "source": [
        "torch.manual_seed(123)\n",
        "model = DummyGPTModel(GPT_CONFIG_124M)\n",
        "\n",
        "logits = model(batch)\n",
        "print(\"Output shape:\", logits.shape)\n",
        "print(logits)"
      ],
      "metadata": {
        "colab": {
          "base_uri": "https://localhost:8080/"
        },
        "id": "RokmCAQU6MEj",
        "outputId": "aa8355ff-4fa0-4ea2-9467-27994e01c4af"
      },
      "execution_count": 5,
      "outputs": [
        {
          "output_type": "stream",
          "name": "stdout",
          "text": [
            "Output shape: torch.Size([2, 4, 50257])\n",
            "tensor([[[-1.2034,  0.3201, -0.7130,  ..., -1.5548, -0.2390, -0.4667],\n",
            "         [-0.1192,  0.4539, -0.4432,  ...,  0.2392,  1.3469,  1.2430],\n",
            "         [ 0.5307,  1.6720, -0.4695,  ...,  1.1966,  0.0111,  0.5835],\n",
            "         [ 0.0139,  1.6755, -0.3388,  ...,  1.1586, -0.0435, -1.0400]],\n",
            "\n",
            "        [[-1.0908,  0.1798, -0.9484,  ..., -1.6047,  0.2439, -0.4530],\n",
            "         [-0.7860,  0.5581, -0.0610,  ...,  0.4835, -0.0077,  1.6621],\n",
            "         [ 0.3567,  1.2698, -0.6398,  ..., -0.0162, -0.1296,  0.3717],\n",
            "         [-0.2407, -0.7349, -0.5102,  ...,  2.0057, -0.3694,  0.1814]]],\n",
            "       grad_fn=<UnsafeViewBackward0>)\n"
          ]
        }
      ]
    },
    {
      "cell_type": "code",
      "source": [
        "torch.manual_seed(123)\n",
        "\n",
        "# create 2 training examples with 5 dimensions (features) each\n",
        "batch_example = torch.randn(2, 5)\n",
        "\n",
        "layer = nn.Sequential(nn.Linear(5, 6), nn.ReLU())\n",
        "out = layer(batch_example)\n",
        "print(out)"
      ],
      "metadata": {
        "colab": {
          "base_uri": "https://localhost:8080/"
        },
        "id": "BJxL6wIr6QrD",
        "outputId": "54ca52ec-18cd-4bdc-c4c6-0ca67d2e0dd2"
      },
      "execution_count": 6,
      "outputs": [
        {
          "output_type": "stream",
          "name": "stdout",
          "text": [
            "tensor([[0.2260, 0.3470, 0.0000, 0.2216, 0.0000, 0.0000],\n",
            "        [0.2133, 0.2394, 0.0000, 0.5198, 0.3297, 0.0000]],\n",
            "       grad_fn=<ReluBackward0>)\n"
          ]
        }
      ]
    },
    {
      "cell_type": "markdown",
      "source": [
        "Mean and variance are calculated for computing normalization ✈"
      ],
      "metadata": {
        "id": "w4GvSzfQDWQm"
      }
    },
    {
      "cell_type": "code",
      "source": [
        "mean = out.mean(dim=-1, keepdim=True)\n",
        "var = out.var(dim=-1, keepdim=True)\n",
        "\n",
        "print(\"Mean:\\n\", mean)\n",
        "print(\"Variance:\\n\", var)"
      ],
      "metadata": {
        "colab": {
          "base_uri": "https://localhost:8080/"
        },
        "id": "1RbsE7eK_Hqd",
        "outputId": "78e1fb3a-bfdf-4051-fc1a-0114195be856"
      },
      "execution_count": 7,
      "outputs": [
        {
          "output_type": "stream",
          "name": "stdout",
          "text": [
            "Mean:\n",
            " tensor([[0.1324],\n",
            "        [0.2170]], grad_fn=<MeanBackward1>)\n",
            "Variance:\n",
            " tensor([[0.0231],\n",
            "        [0.0398]], grad_fn=<VarBackward0>)\n"
          ]
        }
      ]
    },
    {
      "cell_type": "code",
      "source": [
        "out_norm = (out - mean) / torch.sqrt(var)\n",
        "print(\"Normalized layer outputs:\\n\", out_norm)\n",
        "\n",
        "mean = out_norm.mean(dim=-1, keepdim=True)\n",
        "var = out_norm.var(dim=-1, keepdim=True)\n",
        "print(\"Mean:\\n\", mean)\n",
        "print(\"Variance:\\n\", var)"
      ],
      "metadata": {
        "colab": {
          "base_uri": "https://localhost:8080/"
        },
        "id": "fdnXDhfy_061",
        "outputId": "15e2686c-aa2b-45f7-8bcd-dd7a98b2599f"
      },
      "execution_count": 8,
      "outputs": [
        {
          "output_type": "stream",
          "name": "stdout",
          "text": [
            "Normalized layer outputs:\n",
            " tensor([[ 0.6159,  1.4126, -0.8719,  0.5872, -0.8719, -0.8719],\n",
            "        [-0.0189,  0.1121, -1.0876,  1.5173,  0.5647, -1.0876]],\n",
            "       grad_fn=<DivBackward0>)\n",
            "Mean:\n",
            " tensor([[9.9341e-09],\n",
            "        [1.9868e-08]], grad_fn=<MeanBackward1>)\n",
            "Variance:\n",
            " tensor([[1.0000],\n",
            "        [1.0000]], grad_fn=<VarBackward0>)\n"
          ]
        }
      ]
    },
    {
      "cell_type": "code",
      "source": [
        "torch.set_printoptions(sci_mode=False)\n",
        "print(\"Mean:\\n\", mean)\n",
        "print(\"Variance:\\n\", var)"
      ],
      "metadata": {
        "colab": {
          "base_uri": "https://localhost:8080/"
        },
        "id": "8ZpYCfQhAC-m",
        "outputId": "e495ec36-25e2-45d6-d0bf-2ec5b0b8d346"
      },
      "execution_count": 9,
      "outputs": [
        {
          "output_type": "stream",
          "name": "stdout",
          "text": [
            "Mean:\n",
            " tensor([[    0.0000],\n",
            "        [    0.0000]], grad_fn=<MeanBackward1>)\n",
            "Variance:\n",
            " tensor([[1.0000],\n",
            "        [1.0000]], grad_fn=<VarBackward0>)\n"
          ]
        }
      ]
    },
    {
      "cell_type": "code",
      "source": [
        "class LayerNorm(nn.Module):\n",
        "    def __init__(self, emb_dim):\n",
        "        super().__init__()\n",
        "        self.eps = 1e-5\n",
        "        self.scale = nn.Parameter(torch.ones(emb_dim))\n",
        "        self.shift = nn.Parameter(torch.zeros(emb_dim))\n",
        "\n",
        "    def forward(self, x):\n",
        "        mean = x.mean(dim=-1, keepdim=True)\n",
        "        var = x.var(dim=-1, keepdim=True, unbiased=False)\n",
        "        norm_x = (x - mean) / torch.sqrt(var + self.eps)\n",
        "        return self.scale * norm_x + self.shift"
      ],
      "metadata": {
        "id": "KJuPvSUfAIVb"
      },
      "execution_count": 10,
      "outputs": []
    },
    {
      "cell_type": "code",
      "source": [
        "ln = LayerNorm(emb_dim=5)\n",
        "out_ln = ln(batch_example)"
      ],
      "metadata": {
        "id": "Rklob9poALe2"
      },
      "execution_count": 11,
      "outputs": []
    },
    {
      "cell_type": "code",
      "source": [
        "mean = out_ln.mean(dim=-1, keepdim=True)\n",
        "var = out_ln.var(dim=-1, unbiased=False, keepdim=True)\n",
        "\n",
        "print(\"Mean:\\n\", mean)\n",
        "print(\"Variance:\\n\", var)"
      ],
      "metadata": {
        "colab": {
          "base_uri": "https://localhost:8080/"
        },
        "id": "EDy4Oe23Atho",
        "outputId": "bfaa57c5-2153-42c3-b0fd-f5632a61f4bf"
      },
      "execution_count": 12,
      "outputs": [
        {
          "output_type": "stream",
          "name": "stdout",
          "text": [
            "Mean:\n",
            " tensor([[    -0.0000],\n",
            "        [     0.0000]], grad_fn=<MeanBackward1>)\n",
            "Variance:\n",
            " tensor([[1.0000],\n",
            "        [1.0000]], grad_fn=<VarBackward0>)\n"
          ]
        }
      ]
    },
    {
      "cell_type": "markdown",
      "source": [
        "![image.png](data:image/png;base64,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)"
      ],
      "metadata": {
        "id": "mq5oOeolBRSu"
      }
    },
    {
      "cell_type": "code",
      "source": [
        "class GELU(nn.Module):\n",
        "    def __init__(self):\n",
        "        super().__init__()\n",
        "\n",
        "    def forward(self, x):\n",
        "        return 0.5 * x * (1 + torch.tanh(\n",
        "            torch.sqrt(torch.tensor(2.0 / torch.pi)) *\n",
        "            (x + 0.044715 * torch.pow(x, 3))\n",
        "        ))"
      ],
      "metadata": {
        "id": "wKivwvB8AvSJ"
      },
      "execution_count": 13,
      "outputs": []
    },
    {
      "cell_type": "code",
      "source": [
        "import matplotlib.pyplot as plt\n",
        "\n",
        "gelu, relu = GELU(), nn.ReLU()\n",
        "\n",
        "# Some sample data\n",
        "x = torch.linspace(-3, 3, 100)\n",
        "y_gelu, y_relu = gelu(x), relu(x)\n",
        "\n",
        "plt.figure(figsize=(8, 3))\n",
        "for i, (y, label) in enumerate(zip([y_gelu, y_relu], [\"GELU\", \"ReLU\"]), 1):\n",
        "    plt.subplot(1, 2, i)\n",
        "    plt.plot(x, y)\n",
        "    plt.title(f\"{label} activation function\")\n",
        "    plt.xlabel(\"x\")\n",
        "    plt.ylabel(f\"{label}(x)\")\n",
        "    plt.grid(True)\n",
        "\n",
        "plt.tight_layout()\n",
        "plt.show()"
      ],
      "metadata": {
        "colab": {
          "base_uri": "https://localhost:8080/",
          "height": 307
        },
        "id": "dorsjcB_BVI3",
        "outputId": "7411d21f-c104-4138-b912-17a4c807f7ff"
      },
      "execution_count": 14,
      "outputs": [
        {
          "output_type": "display_data",
          "data": {
            "text/plain": [
              "<Figure size 800x300 with 2 Axes>"
            ],
            "image/png": "[encoded data removed]"
          },
          "metadata": {}
        }
      ]
    },
    {
      "cell_type": "code",
      "source": [
        "class FeedForward(nn.Module):\n",
        "    def __init__(self, cfg):\n",
        "        super().__init__()\n",
        "        self.layers = nn.Sequential(\n",
        "            nn.Linear(cfg[\"emb_dim\"], 4 * cfg[\"emb_dim\"]),\n",
        "            GELU(),\n",
        "            nn.Linear(4 * cfg[\"emb_dim\"], cfg[\"emb_dim\"]),\n",
        "        )\n",
        "\n",
        "    def forward(self, x):\n",
        "        return self.layers(x)"
      ],
      "metadata": {
        "id": "sDic8ZXIBghO"
      },
      "execution_count": 15,
      "outputs": []
    },
    {
      "cell_type": "code",
      "source": [
        "print(GPT_CONFIG_124M[\"emb_dim\"])"
      ],
      "metadata": {
        "colab": {
          "base_uri": "https://localhost:8080/"
        },
        "id": "5PqnRXVlBjcV",
        "outputId": "df72487e-2d14-4946-8a95-67b504cb5bda"
      },
      "execution_count": 16,
      "outputs": [
        {
          "output_type": "stream",
          "name": "stdout",
          "text": [
            "768\n"
          ]
        }
      ]
    },
    {
      "cell_type": "code",
      "source": [
        "ffn = FeedForward(GPT_CONFIG_124M)\n",
        "\n",
        "# input shape: [batch_size, num_token, emb_size]\n",
        "x = torch.rand(2, 3, 768)\n",
        "out = ffn(x)\n",
        "print(out.shape)"
      ],
      "metadata": {
        "colab": {
          "base_uri": "https://localhost:8080/"
        },
        "id": "xPRK5GvyBled",
        "outputId": "9bcc6ddb-0958-495b-d00e-de480651220e"
      },
      "execution_count": 17,
      "outputs": [
        {
          "output_type": "stream",
          "name": "stdout",
          "text": [
            "torch.Size([2, 3, 768])\n"
          ]
        }
      ]
    },
    {
      "cell_type": "markdown",
      "source": [
        "# Adding Short cuts just like in transformer architecture"
      ],
      "metadata": {
        "id": "iWZemRv1Cmu3"
      }
    },
    {
      "cell_type": "code",
      "source": [
        "class ExampleDeepNeuralNetwork(nn.Module):\n",
        "    def __init__(self, layer_sizes, use_shortcut):\n",
        "        super().__init__()\n",
        "        self.use_shortcut = use_shortcut\n",
        "        self.layers = nn.ModuleList([\n",
        "            nn.Sequential(nn.Linear(layer_sizes[0], layer_sizes[1]), GELU()),\n",
        "            nn.Sequential(nn.Linear(layer_sizes[1], layer_sizes[2]), GELU()),\n",
        "            nn.Sequential(nn.Linear(layer_sizes[2], layer_sizes[3]), GELU()),\n",
        "            nn.Sequential(nn.Linear(layer_sizes[3], layer_sizes[4]), GELU()),\n",
        "            nn.Sequential(nn.Linear(layer_sizes[4], layer_sizes[5]), GELU())\n",
        "        ])\n",
        "\n",
        "    def forward(self, x):\n",
        "        for layer in self.layers:\n",
        "            # Compute the output of the current layer\n",
        "            layer_output = layer(x)\n",
        "            # Check if shortcut can be applied\n",
        "            if self.use_shortcut and x.shape == layer_output.shape:\n",
        "                x = x + layer_output\n",
        "            else:\n",
        "                x = layer_output\n",
        "        return x\n",
        "\n",
        "\n",
        "def print_gradients(model, x):\n",
        "    # Forward pass\n",
        "    output = model(x)\n",
        "    target = torch.tensor([[0.]])\n",
        "\n",
        "    # Calculate loss based on how close the target\n",
        "    # and output are\n",
        "    loss = nn.MSELoss()\n",
        "    loss = loss(output, target)\n",
        "\n",
        "    # Backward pass to calculate the gradients\n",
        "    loss.backward()\n",
        "\n",
        "    for name, param in model.named_parameters():\n",
        "        if 'weight' in name:\n",
        "            # Print the mean absolute gradient of the weights\n",
        "            print(f\"{name} has gradient mean of {param.grad.abs().mean().item()}\")"
      ],
      "metadata": {
        "id": "Qh4Rb31PChdd"
      },
      "execution_count": 18,
      "outputs": []
    },
    {
      "cell_type": "markdown",
      "source": [
        "Below is the gradient values without shortcut"
      ],
      "metadata": {
        "id": "6LoBAbWXC0EX"
      }
    },
    {
      "cell_type": "code",
      "source": [
        "layer_sizes = [3, 3, 3, 3, 3, 1]\n",
        "\n",
        "sample_input = torch.tensor([[1., 0., -1.]])\n",
        "\n",
        "torch.manual_seed(123)\n",
        "model_without_shortcut = ExampleDeepNeuralNetwork(\n",
        "    layer_sizes, use_shortcut=False\n",
        ")\n",
        "print_gradients(model_without_shortcut, sample_input)"
      ],
      "metadata": {
        "colab": {
          "base_uri": "https://localhost:8080/"
        },
        "id": "cvNJWJVXCuBX",
        "outputId": "6a30b3d6-7bc6-437d-8d5f-04ef434d4882"
      },
      "execution_count": 19,
      "outputs": [
        {
          "output_type": "stream",
          "name": "stdout",
          "text": [
            "layers.0.0.weight has gradient mean of 0.00020173584925942123\n",
            "layers.1.0.weight has gradient mean of 0.00012011159560643137\n",
            "layers.2.0.weight has gradient mean of 0.0007152040489017963\n",
            "layers.3.0.weight has gradient mean of 0.0013988736318424344\n",
            "layers.4.0.weight has gradient mean of 0.005049645435065031\n"
          ]
        }
      ]
    },
    {
      "cell_type": "markdown",
      "source": [
        "Below is done with the help of shortcuts which I have deployed 2 cells above"
      ],
      "metadata": {
        "id": "v-TS5FblC6JG"
      }
    },
    {
      "cell_type": "code",
      "source": [
        "torch.manual_seed(123)\n",
        "model_with_shortcut = ExampleDeepNeuralNetwork(\n",
        "    layer_sizes, use_shortcut=True\n",
        ")\n",
        "print_gradients(model_with_shortcut, sample_input)"
      ],
      "metadata": {
        "colab": {
          "base_uri": "https://localhost:8080/"
        },
        "id": "3UfYId3_C3pn",
        "outputId": "88ee2454-d321-4605-ad5b-09d1b3fa7dc4"
      },
      "execution_count": 20,
      "outputs": [
        {
          "output_type": "stream",
          "name": "stdout",
          "text": [
            "layers.0.0.weight has gradient mean of 0.22169792652130127\n",
            "layers.1.0.weight has gradient mean of 0.20694108307361603\n",
            "layers.2.0.weight has gradient mean of 0.3289699852466583\n",
            "layers.3.0.weight has gradient mean of 0.2665732204914093\n",
            "layers.4.0.weight has gradient mean of 1.3258541822433472\n"
          ]
        }
      ]
    },
    {
      "cell_type": "markdown",
      "source": [
        "# From the above result it is evident that usage of shortcuts with minimal drop out rates decreases our vanishing gradient problem"
      ],
      "metadata": {
        "id": "GCS3XV4ZDke_"
      }
    },
    {
      "cell_type": "markdown",
      "source": [
        "### Getting along with multi- head attention just like open-ai"
      ],
      "metadata": {
        "id": "KykVQfyXEeDR"
      }
    },
    {
      "cell_type": "code",
      "source": [
        "import torch\n",
        "\n",
        "inputs = torch.tensor(\n",
        "  [[0.43, 0.15, 0.89], # Your     (x^1)\n",
        "   [0.55, 0.87, 0.66], # journey  (x^2)\n",
        "   [0.57, 0.85, 0.64], # starts   (x^3)\n",
        "   [0.22, 0.58, 0.33], # with     (x^4)\n",
        "   [0.77, 0.25, 0.10], # one      (x^5)\n",
        "   [0.05, 0.80, 0.55]] # step     (x^6)\n",
        ")"
      ],
      "metadata": {
        "id": "gir0hDkPFIMQ"
      },
      "execution_count": 21,
      "outputs": []
    },
    {
      "cell_type": "code",
      "source": [
        "class MultiHeadAttention(nn.Module):\n",
        "    def __init__(self, d_in, d_out, context_length, dropout, num_heads, qkv_bias=False):\n",
        "        super().__init__()\n",
        "        assert (d_out % num_heads == 0), \\\n",
        "            \"d_out must be divisible by num_heads\"\n",
        "\n",
        "        self.d_out = d_out\n",
        "        self.num_heads = num_heads\n",
        "        self.head_dim = d_out // num_heads # Reduce the projection dim to match desired output dim\n",
        "\n",
        "        self.W_query = nn.Linear(d_in, d_out, bias=qkv_bias)\n",
        "        self.W_key = nn.Linear(d_in, d_out, bias=qkv_bias)\n",
        "        self.W_value = nn.Linear(d_in, d_out, bias=qkv_bias)\n",
        "        self.out_proj = nn.Linear(d_out, d_out)  # Linear layer to combine head outputs\n",
        "        self.dropout = nn.Dropout(dropout)\n",
        "        self.register_buffer(\n",
        "            \"mask\",\n",
        "            torch.triu(torch.ones(context_length, context_length),\n",
        "                       diagonal=1)\n",
        "        )\n",
        "\n",
        "    def forward(self, x):\n",
        "        b, num_tokens, d_in = x.shape\n",
        "        # As in `CausalAttention`, for inputs where `num_tokens` exceeds `context_length`,\n",
        "        # this will result in errors in the mask creation further below.\n",
        "        # In practice, this is not a problem since the LLM (chapters 4-7) ensures that inputs\n",
        "        # do not exceed `context_length` before reaching this forward method.\n",
        "\n",
        "        keys = self.W_key(x) # Shape: (b, num_tokens, d_out)\n",
        "        queries = self.W_query(x)\n",
        "        values = self.W_value(x)\n",
        "\n",
        "        # We implicitly split the matrix by adding a `num_heads` dimension\n",
        "        # Unroll last dim: (b, num_tokens, d_out) -> (b, num_tokens, num_heads, head_dim)\n",
        "        keys = keys.view(b, num_tokens, self.num_heads, self.head_dim)\n",
        "        values = values.view(b, num_tokens, self.num_heads, self.head_dim)\n",
        "        queries = queries.view(b, num_tokens, self.num_heads, self.head_dim)\n",
        "\n",
        "        # Transpose: (b, num_tokens, num_heads, head_dim) -> (b, num_heads, num_tokens, head_dim)\n",
        "        keys = keys.transpose(1, 2)\n",
        "        queries = queries.transpose(1, 2)\n",
        "        values = values.transpose(1, 2)\n",
        "\n",
        "        # Compute scaled dot-product attention (aka self-attention) with a causal mask\n",
        "        attn_scores = queries @ keys.transpose(2, 3)  # Dot product for each head\n",
        "\n",
        "        # Original mask truncated to the number of tokens and converted to boolean\n",
        "        mask_bool = self.mask.bool()[:num_tokens, :num_tokens]\n",
        "\n",
        "        # Use the mask to fill attention scores\n",
        "        attn_scores.masked_fill_(mask_bool, -torch.inf)\n",
        "\n",
        "        attn_weights = torch.softmax(attn_scores / keys.shape[-1]**0.5, dim=-1)\n",
        "        attn_weights = self.dropout(attn_weights)\n",
        "\n",
        "        # Shape: (b, num_tokens, num_heads, head_dim)\n",
        "        context_vec = (attn_weights @ values).transpose(1, 2)\n",
        "\n",
        "        # Combine heads, where self.d_out = self.num_heads * self.head_dim\n",
        "        context_vec = context_vec.contiguous().view(b, num_tokens, self.d_out)\n",
        "        context_vec = self.out_proj(context_vec) # optional projection\n",
        "\n",
        "        return context_vec\n",
        "\n",
        "\n",
        "\n"
      ],
      "metadata": {
        "id": "Syf4IHMvF8jb"
      },
      "execution_count": 22,
      "outputs": []
    },
    {
      "cell_type": "markdown",
      "source": [
        "# Here comes the big boy ,\n",
        "connecting our multi-head attention block and linear layers with the transformer block"
      ],
      "metadata": {
        "id": "eVQMznQVGEnA"
      }
    },
    {
      "cell_type": "code",
      "source": [
        "class TransformerBlock(nn.Module):\n",
        "    def __init__(self, cfg):\n",
        "        super().__init__()\n",
        "        self.att = MultiHeadAttention(\n",
        "            d_in=cfg[\"emb_dim\"],\n",
        "            d_out=cfg[\"emb_dim\"],\n",
        "            context_length=cfg[\"context_length\"],\n",
        "            num_heads=cfg[\"n_heads\"],\n",
        "            dropout=cfg[\"drop_rate\"],\n",
        "            qkv_bias=cfg[\"qkv_bias\"])\n",
        "        self.ff = FeedForward(cfg)\n",
        "        self.norm1 = LayerNorm(cfg[\"emb_dim\"])\n",
        "        self.norm2 = LayerNorm(cfg[\"emb_dim\"])\n",
        "        self.drop_shortcut = nn.Dropout(cfg[\"drop_rate\"])\n",
        "\n",
        "    def forward(self, x):\n",
        "        # Shortcut connection for attention block\n",
        "        shortcut = x\n",
        "        x = self.norm1(x)\n",
        "        x = self.att(x)  # Shape [batch_size, num_tokens, emb_size]\n",
        "        x = self.drop_shortcut(x)\n",
        "        x = x + shortcut  # Add the original input back\n",
        "\n",
        "        # Shortcut connection for feed forward block\n",
        "        shortcut = x\n",
        "        x = self.norm2(x)\n",
        "        x = self.ff(x)\n",
        "        x = self.drop_shortcut(x)\n",
        "        x = x + shortcut  # Add the original input back\n",
        "\n",
        "        return x"
      ],
      "metadata": {
        "id": "XQ0ikWojGAcm"
      },
      "execution_count": 23,
      "outputs": []
    },
    {
      "cell_type": "code",
      "source": [
        "torch.manual_seed(123)\n",
        "\n",
        "x = torch.rand(2, 4, 768)  # Shape: [batch_size, num_tokens, emb_dim]\n",
        "block = TransformerBlock(GPT_CONFIG_124M)\n",
        "output = block(x)\n",
        "\n",
        "print(\"Input shape:\", x.shape)\n",
        "print(\"Output shape:\", output.shape)"
      ],
      "metadata": {
        "colab": {
          "base_uri": "https://localhost:8080/"
        },
        "id": "NPI8aXL3GQsS",
        "outputId": "be83cc9f-702e-4171-bae2-25fb20cc0e7a"
      },
      "execution_count": 24,
      "outputs": [
        {
          "output_type": "stream",
          "name": "stdout",
          "text": [
            "Input shape: torch.Size([2, 4, 768])\n",
            "Output shape: torch.Size([2, 4, 768])\n"
          ]
        }
      ]
    },
    {
      "cell_type": "markdown",
      "source": [
        "# Let's code our GPT-2 model"
      ],
      "metadata": {
        "id": "kWoRphLGGZBi"
      }
    },
    {
      "cell_type": "code",
      "source": [
        "class GPTModel(nn.Module):\n",
        "    def __init__(self, cfg):\n",
        "        super().__init__()\n",
        "        self.tok_emb = nn.Embedding(cfg[\"vocab_size\"], cfg[\"emb_dim\"])\n",
        "        self.pos_emb = nn.Embedding(cfg[\"context_length\"], cfg[\"emb_dim\"])\n",
        "        self.drop_emb = nn.Dropout(cfg[\"drop_rate\"])\n",
        "\n",
        "        self.trf_blocks = nn.Sequential(\n",
        "            *[TransformerBlock(cfg) for _ in range(cfg[\"n_layers\"])])\n",
        "\n",
        "        self.final_norm = LayerNorm(cfg[\"emb_dim\"])\n",
        "        self.out_head = nn.Linear(\n",
        "            cfg[\"emb_dim\"], cfg[\"vocab_size\"], bias=False\n",
        "        )\n",
        "\n",
        "    def forward(self, in_idx):\n",
        "        batch_size, seq_len = in_idx.shape\n",
        "        tok_embeds = self.tok_emb(in_idx)\n",
        "        pos_embeds = self.pos_emb(torch.arange(seq_len, device=in_idx.device))\n",
        "        x = tok_embeds + pos_embeds  # Shape [batch_size, num_tokens, emb_size]\n",
        "        x = self.drop_emb(x)\n",
        "        x = self.trf_blocks(x)\n",
        "        x = self.final_norm(x)\n",
        "        logits = self.out_head(x)\n",
        "        return logits"
      ],
      "metadata": {
        "id": "LcQte5luGU29"
      },
      "execution_count": 25,
      "outputs": []
    },
    {
      "cell_type": "code",
      "source": [
        "torch.manual_seed(123)\n",
        "model = GPTModel(GPT_CONFIG_124M)\n",
        "\n",
        "\n",
        "print(\"Input batch:\\n\", batch)\n",
        "print(\"\\nOutput shape:\", out.shape)\n",
        "print(out)"
      ],
      "metadata": {
        "colab": {
          "base_uri": "https://localhost:8080/"
        },
        "id": "tLVDMUuOGbZn",
        "outputId": "d923435a-064e-4003-a207-290b43c40eb8"
      },
      "execution_count": 26,
      "outputs": [
        {
          "output_type": "stream",
          "name": "stdout",
          "text": [
            "Input batch:\n",
            " tensor([[6109, 3626, 6100,  345],\n",
            "        [6109, 1110, 6622,  257]])\n",
            "\n",
            "Output shape: torch.Size([2, 3, 768])\n",
            "tensor([[[ 0.1238,  0.0457,  0.0939,  ...,  0.1107,  0.0167, -0.1992],\n",
            "         [ 0.1574, -0.0282,  0.0049,  ...,  0.0026,  0.1120, -0.1075],\n",
            "         [ 0.1184, -0.0052,  0.0839,  ...,  0.1662,  0.0112, -0.1685]],\n",
            "\n",
            "        [[ 0.1302,  0.0630,  0.1050,  ...,  0.1439,  0.0562, -0.1128],\n",
            "         [ 0.1249, -0.0073,  0.1022,  ...,  0.0417,  0.0381, -0.0828],\n",
            "         [ 0.0494,  0.0654,  0.0347,  ...,  0.0701,  0.0793, -0.1810]]],\n",
            "       grad_fn=<ViewBackward0>)\n"
          ]
        }
      ]
    },
    {
      "cell_type": "markdown",
      "source": [
        "Let's check the total parameters of our model!!"
      ],
      "metadata": {
        "id": "eHiAWog4JbrD"
      }
    },
    {
      "cell_type": "code",
      "source": [
        "total_params = sum(p.numel() for p in model.parameters())\n",
        "print(f\"Total number of parameters: {total_params:,}\")"
      ],
      "metadata": {
        "colab": {
          "base_uri": "https://localhost:8080/"
        },
        "id": "yLtPWtteGfdB",
        "outputId": "41be9d18-40af-4fff-c492-38bc792cdfca"
      },
      "execution_count": 27,
      "outputs": [
        {
          "output_type": "stream",
          "name": "stdout",
          "text": [
            "Total number of parameters: 163,009,536\n"
          ]
        }
      ]
    },
    {
      "cell_type": "markdown",
      "source": [
        "Why is it 163M instead of 124 M"
      ],
      "metadata": {
        "id": "o7ur0SO8JfGC"
      }
    },
    {
      "cell_type": "markdown",
      "source": [
        "** That is because the token embeddings is fed again as output layer ㊗**"
      ],
      "metadata": {
        "id": "14t6ZIqxJk8C"
      }
    },
    {
      "cell_type": "code",
      "source": [
        "print(\"Token embedding layer shape:\", model.tok_emb.weight.shape)\n",
        "print(\"Output layer shape:\", model.out_head.weight.shape)"
      ],
      "metadata": {
        "colab": {
          "base_uri": "https://localhost:8080/"
        },
        "id": "sYWD4kf1HrQZ",
        "outputId": "068a2bc5-8d45-4cd7-e8f8-a6630b4a053f"
      },
      "execution_count": 28,
      "outputs": [
        {
          "output_type": "stream",
          "name": "stdout",
          "text": [
            "Token embedding layer shape: torch.Size([50257, 768])\n",
            "Output layer shape: torch.Size([50257, 768])\n"
          ]
        }
      ]
    },
    {
      "cell_type": "code",
      "source": [
        "total_params_gpt2 =  total_params - sum(p.numel() for p in model.out_head.parameters())\n",
        "print(f\"Number of trainable parameters considering weight tying: {total_params_gpt2:,}\")"
      ],
      "metadata": {
        "colab": {
          "base_uri": "https://localhost:8080/"
        },
        "id": "zrg3Cxf_Ja9i",
        "outputId": "711cdc31-a30c-4518-ad63-bfb3958f4d71"
      },
      "execution_count": 29,
      "outputs": [
        {
          "output_type": "stream",
          "name": "stdout",
          "text": [
            "Number of trainable parameters considering weight tying: 124,412,160\n"
          ]
        }
      ]
    },
    {
      "cell_type": "code",
      "source": [
        "total_size_bytes = total_params * 4\n",
        "\n",
        "# Convert to megabytes\n",
        "total_size_mb = total_size_bytes / (1024 * 1024)\n",
        "\n",
        "print(f\"Total size of the model: {total_size_mb:.2f} MB\")"
      ],
      "metadata": {
        "colab": {
          "base_uri": "https://localhost:8080/"
        },
        "id": "wGSb5S-IJy29",
        "outputId": "b2377777-9943-4bd2-f70b-24069e38f70f"
      },
      "execution_count": 30,
      "outputs": [
        {
          "output_type": "stream",
          "name": "stdout",
          "text": [
            "Total size of the model: 621.83 MB\n"
          ]
        }
      ]
    },
    {
      "cell_type": "markdown",
      "source": [
        "# Let's implement a greedy decoder"
      ],
      "metadata": {
        "id": "C20v8VXxKLaq"
      }
    },
    {
      "cell_type": "code",
      "source": [
        "def generate_text_simple(model, idx, max_new_tokens, context_size):\n",
        "    # idx is (batch, n_tokens) array of indices in the current context\n",
        "    for _ in range(max_new_tokens):\n",
        "\n",
        "        # Crop current context if it exceeds the supported context size\n",
        "        # E.g., if LLM supports only 5 tokens, and the context size is 10\n",
        "        # then only the last 5 tokens are used as context\n",
        "        idx_cond = idx[:, -context_size:]\n",
        "\n",
        "        # Get the predictions\n",
        "        with torch.no_grad():\n",
        "            logits = model(idx_cond)\n",
        "\n",
        "        # Focus only on the last time step\n",
        "        # (batch, n_tokens, vocab_size) becomes (batch, vocab_size)\n",
        "        logits = logits[:, -1, :]\n",
        "\n",
        "        # Apply softmax to get probabilities\n",
        "        probas = torch.softmax(logits, dim=-1)  # (batch, vocab_size)\n",
        "\n",
        "        # Get the idx of the vocab entry with the highest probability value\n",
        "        idx_next = torch.argmax(probas, dim=-1, keepdim=True)  # (batch, 1)\n",
        "\n",
        "        # Append sampled index to the running sequence\n",
        "        idx = torch.cat((idx, idx_next), dim=1)  # (batch, n_tokens+1)\n",
        "\n",
        "    return idx"
      ],
      "metadata": {
        "id": "ePhfhg5RJ59J"
      },
      "execution_count": 31,
      "outputs": []
    },
    {
      "cell_type": "code",
      "source": [
        "start_context = \"Good to see you Yashwanth\"\n",
        "\n",
        "encoded = tokenizer.encode(start_context)\n",
        "print(\"encoded:\", encoded)\n",
        "\n",
        "encoded_tensor = torch.tensor(encoded).unsqueeze(0)\n",
        "print(\"encoded_tensor.shape:\", encoded_tensor.shape)"
      ],
      "metadata": {
        "colab": {
          "base_uri": "https://localhost:8080/"
        },
        "id": "86uxFO9PKPsH",
        "outputId": "1ab56299-9654-4576-a703-65ec5fa208ad"
      },
      "execution_count": 32,
      "outputs": [
        {
          "output_type": "stream",
          "name": "stdout",
          "text": [
            "encoded: [10248, 284, 766, 345, 575, 1077, 8149, 400]\n",
            "encoded_tensor.shape: torch.Size([1, 8])\n"
          ]
        }
      ]
    },
    {
      "cell_type": "code",
      "source": [
        "model.eval() # disable dropout\n",
        "\n",
        "out = generate_text_simple(\n",
        "    model=model,\n",
        "    idx=encoded_tensor,\n",
        "    max_new_tokens=6,\n",
        "    context_size=GPT_CONFIG_124M[\"context_length\"]\n",
        ")\n",
        "\n",
        "print(\"Output:\", out)\n",
        "print(\"Output length:\", len(out[0]))"
      ],
      "metadata": {
        "colab": {
          "base_uri": "https://localhost:8080/"
        },
        "id": "el2QKqC-KUOX",
        "outputId": "66385643-0067-4c27-ebda-159c4a317418"
      },
      "execution_count": 33,
      "outputs": [
        {
          "output_type": "stream",
          "name": "stdout",
          "text": [
            "Output: tensor([[10248,   284,   766,   345,   575,  1077,  8149,   400, 32723, 14242,\n",
            "         23338, 13370, 11764, 32870]])\n",
            "Output length: 14\n"
          ]
        }
      ]
    },
    {
      "cell_type": "code",
      "source": [
        "decoded_text = tokenizer.decode(out.squeeze(0).tolist())\n",
        "print(decoded_text)"
      ],
      "metadata": {
        "colab": {
          "base_uri": "https://localhost:8080/"
        },
        "id": "qaigUmEoKXVa",
        "outputId": "addd7b1e-929d-4788-ec12-2d6a106d671a"
      },
      "execution_count": 34,
      "outputs": [
        {
          "output_type": "stream",
          "name": "stdout",
          "text": [
            "Good to see you YashwanthgglesAEنtic openly fetish\n"
          ]
        }
      ]
    },
    {
      "cell_type": "markdown",
      "source": [
        "As you can infer that the generated words are not upto the mark , which means that the weights are not trained until now , let's get started with training the weights"
      ],
      "metadata": {
        "id": "5WHx9_YiQ1yO"
      }
    },
    {
      "cell_type": "code",
      "source": [
        "GPT_CONFIG_124M = {\n",
        "    \"vocab_size\": 50257,   # Vocabulary size\n",
        "    \"context_length\": 256, # Shortened context length (orig: 1024)\n",
        "    \"emb_dim\": 768,        # Embedding dimension\n",
        "    \"n_heads\": 12,         # Number of attention heads\n",
        "    \"n_layers\": 12,        # Number of layers\n",
        "    \"drop_rate\": 0.1,      # Dropout rate\n",
        "    \"qkv_bias\": False      # Query-key-value bias\n",
        "}\n",
        "\n",
        "torch.manual_seed(123)\n",
        "model = GPTModel(GPT_CONFIG_124M)\n",
        "model.eval();"
      ],
      "metadata": {
        "id": "A1RgzyrdKaN0"
      },
      "execution_count": 35,
      "outputs": []
    },
    {
      "cell_type": "code",
      "source": [
        "import tiktoken\n",
        "\n",
        "def text_to_token_ids(text, tokenizer):\n",
        "    encoded = tokenizer.encode(text, allowed_special={'<|endoftext|>'})\n",
        "    encoded_tensor = torch.tensor(encoded).unsqueeze(0) # add batch dimension\n",
        "    return encoded_tensor\n",
        "\n",
        "def token_ids_to_text(token_ids, tokenizer):\n",
        "    flat = token_ids.squeeze(0) # remove batch dimension\n",
        "    return tokenizer.decode(flat.tolist())\n",
        "\n",
        "start_context = \"Every effort moves you\"\n",
        "tokenizer = tiktoken.get_encoding(\"gpt2\")\n",
        "\n",
        "token_ids = generate_text_simple(\n",
        "    model=model,\n",
        "    idx=text_to_token_ids(start_context, tokenizer),\n",
        "    max_new_tokens=20,\n",
        "    context_size=GPT_CONFIG_124M[\"context_length\"]\n",
        ")\n",
        "\n",
        "print(\"Output text:\\n\", token_ids_to_text(token_ids, tokenizer))"
      ],
      "metadata": {
        "id": "cetLaQ5NRDpu"
      },
      "execution_count": null,
      "outputs": []
    },
    {
      "cell_type": "markdown",
      "source": [
        "Let's calculate training and validation losses"
      ],
      "metadata": {
        "id": "gonys5xXR6ne"
      }
    },
    {
      "cell_type": "markdown",
      "source": [
        "I am using \" The verdict.txt\" file"
      ],
      "metadata": {
        "id": "_IIkZKd_R_AY"
      }
    },
    {
      "cell_type": "code",
      "source": [
        "with open(\"the-verdict.txt\", \"r\", encoding= \"utf-8\") as f:\n",
        "    text_data = f.read()"
      ],
      "metadata": {
        "id": "MrqljQnfRNwG"
      },
      "execution_count": null,
      "outputs": []
    },
    {
      "cell_type": "code",
      "source": [
        "total_characters = len(text_data)\n",
        "total_tokens = len(tokenizer.encode(text_data))\n",
        "\n",
        "print(\"Characters:\", total_characters)\n",
        "print(\"Tokens:\", total_tokens)"
      ],
      "metadata": {
        "id": "FEhFaaJgSPI4"
      },
      "execution_count": null,
      "outputs": []
    },
    {
      "cell_type": "markdown",
      "source": [
        "Need to implement encoder"
      ],
      "metadata": {
        "id": "ryBsgkqAS4Vu"
      }
    },
    {
      "cell_type": "code",
      "source": [
        "from torch.utils.data import Dataset , DataLoader\n",
        "\n",
        "class GPTDataset(Dataset):\n",
        "  def __init__(self,txt,tokenizer,max_length,stride):\n",
        "    self.input_ids=[]\n",
        "    self.target_ids=[]\n",
        "\n",
        "    token_ids= tokenizer.encode(txt, allowed_special={\"<|endoftext|>\"})\n",
        "\n",
        "    for i in range(0,len(token_ids)-max_length,stride):\n",
        "      input_chunks= token_ids[i:max_length+i]\n",
        "      output_chunks= token_ids[i+1:max_length+i+1]\n",
        "\n",
        "      self.input_ids.append(torch.tensor(input_chunks))\n",
        "      self.target_ids.append(torch.tensor(output_chunks))\n",
        "\n",
        "  def __len__(self):\n",
        "    return len(self.input_ids)\n",
        "\n",
        "  def __getitem__(self,idx):\n",
        "    return self.input_ids[idx], self.target_ids[idx]\n"
      ],
      "metadata": {
        "id": "D-TKkAUeSWDj"
      },
      "execution_count": null,
      "outputs": []
    },
    {
      "cell_type": "code",
      "source": [
        "def create_dataloader_v1(txt, batch_size=4,max_length=256,stride=128,num_workers=0,shuffle=True, drop_last=True):\n",
        "\n",
        "  tokenizer= tiktoken.get_encoding(\"gpt2\")\n",
        "\n",
        "  dataset= GPTDataset(txt,tokenizer,max_length,stride)\n",
        "\n",
        "\n",
        "  dataloader=DataLoader(\n",
        "      dataset,\n",
        "      batch_size=batch_size,\n",
        "      shuffle=shuffle,\n",
        "      num_workers=num_workers,\n",
        "      drop_last=drop_last\n",
        "  )\n",
        "\n",
        "\n",
        "  return dataloader\n"
      ],
      "metadata": {
        "id": "82v30m7kS9PS"
      },
      "execution_count": null,
      "outputs": []
    },
    {
      "cell_type": "code",
      "source": [
        "train_ratio = 0.90\n",
        "split_idx = int(train_ratio * len(text_data))\n",
        "train_data = text_data[:split_idx]\n",
        "val_data = text_data[split_idx:]\n",
        "\n",
        "\n",
        "torch.manual_seed(123)\n",
        "\n",
        "train_loader = create_dataloader_v1(\n",
        "    train_data,\n",
        "    batch_size=2,\n",
        "    max_length=GPT_CONFIG_124M[\"context_length\"],\n",
        "    stride=GPT_CONFIG_124M[\"context_length\"],\n",
        "    drop_last=True,\n",
        "    shuffle=True,\n",
        "    num_workers=0\n",
        ")\n",
        "\n",
        "val_loader = create_dataloader_v1(\n",
        "    val_data,\n",
        "    batch_size=2,\n",
        "    max_length=GPT_CONFIG_124M[\"context_length\"],\n",
        "    stride=GPT_CONFIG_124M[\"context_length\"],\n",
        "    drop_last=False,\n",
        "    shuffle=False,\n",
        "    num_workers=0\n",
        ")"
      ],
      "metadata": {
        "id": "gQasFE_2S_Nf"
      },
      "execution_count": null,
      "outputs": []
    },
    {
      "cell_type": "code",
      "source": [
        "if total_tokens * (train_ratio) < GPT_CONFIG_124M[\"context_length\"]:\n",
        "    print(\"Not enough tokens for the training loader. \"\n",
        "          \"Try to lower the `GPT_CONFIG_124M['context_length']` or \"\n",
        "          \"increase the `training_ratio`\")\n",
        "\n",
        "if total_tokens * (1-train_ratio) < GPT_CONFIG_124M[\"context_length\"]:\n",
        "    print(\"Not enough tokens for the validation loader. \"\n",
        "          \"Try to lower the `GPT_CONFIG_124M['context_length']` or \"\n",
        "          \"decrease the `training_ratio`\")"
      ],
      "metadata": {
        "id": "Js8OTRv6TCT5"
      },
      "execution_count": null,
      "outputs": []
    },
    {
      "cell_type": "markdown",
      "source": [
        "Below is the way to check if the datas were loaded correctly"
      ],
      "metadata": {
        "id": "Z1X9b3wXTTsA"
      }
    },
    {
      "cell_type": "code",
      "source": [
        "print(\"Train loader:\")\n",
        "for x, y in train_loader:\n",
        "    print(x.shape, y.shape)\n",
        "\n",
        "print(\"\\nValidation loader:\")\n",
        "for x, y in val_loader:\n",
        "    print(x.shape, y.shape)"
      ],
      "metadata": {
        "id": "q7XyGF1_TJVz"
      },
      "execution_count": null,
      "outputs": []
    },
    {
      "cell_type": "markdown",
      "source": [
        "The below is for computing the loss for user specified batch losses"
      ],
      "metadata": {
        "id": "WtY9E5-WTfib"
      }
    },
    {
      "cell_type": "code",
      "source": [
        "def calc_loss_batch(input_batch, target_batch, model, device):\n",
        "    input_batch, target_batch = input_batch.to(device), target_batch.to(device)\n",
        "    logits = model(input_batch)\n",
        "    loss = torch.nn.functional.cross_entropy(logits.flatten(0, 1), target_batch.flatten())\n",
        "    return loss\n",
        "\n",
        "\n",
        "def calc_loss_loader(data_loader, model, device, num_batches=None):\n",
        "    total_loss = 0.\n",
        "    if len(data_loader) == 0:\n",
        "        return float(\"nan\")\n",
        "    elif num_batches is None:\n",
        "        num_batches = len(data_loader)\n",
        "    else:\n",
        "        # Reduce the number of batches to match the total number of batches in the data loader\n",
        "        # if num_batches exceeds the number of batches in the data loader\n",
        "        num_batches = min(num_batches, len(data_loader))\n",
        "    for i, (input_batch, target_batch) in enumerate(data_loader):\n",
        "        if i < num_batches:\n",
        "            loss = calc_loss_batch(input_batch, target_batch, model, device)\n",
        "            total_loss += loss.item()\n",
        "        else:\n",
        "            break\n",
        "    return total_loss / num_batches"
      ],
      "metadata": {
        "id": "t9XElFiaTP7C"
      },
      "execution_count": null,
      "outputs": []
    },
    {
      "cell_type": "code",
      "source": [
        "device = torch.device(\"cuda\" if torch.cuda.is_available() else \"cpu\")\n",
        "device"
      ],
      "metadata": {
        "id": "fsqAU6R6Te92"
      },
      "execution_count": null,
      "outputs": []
    },
    {
      "cell_type": "code",
      "source": [
        "model.to(device)"
      ],
      "metadata": {
        "id": "eaYjZvcQTzOd"
      },
      "execution_count": null,
      "outputs": []
    },
    {
      "cell_type": "code",
      "source": [
        "torch.manual_seed(123) # For reproducibility due to the shuffling in the data loader\n",
        "\n",
        "with torch.no_grad(): # Disable gradient tracking for efficiency because we are not training, yet\n",
        "    train_loss = calc_loss_loader(train_loader, model, device)\n",
        "    val_loss = calc_loss_loader(val_loader, model, device)\n",
        "\n",
        "print(\"Training loss:\", train_loss)\n",
        "print(\"Validation loss:\", val_loss)"
      ],
      "metadata": {
        "id": "KOrXddRsT3-1"
      },
      "execution_count": null,
      "outputs": []
    },
    {
      "cell_type": "code",
      "source": [
        "def train_model_simple(model, train_loader, val_loader, optimizer, device, num_epochs,\n",
        "                       eval_freq, eval_iter, start_context, tokenizer):\n",
        "    # Initialize lists to track losses and tokens seen\n",
        "    train_losses, val_losses, track_tokens_seen = [], [], []\n",
        "    tokens_seen, global_step = 0, -1\n",
        "\n",
        "    # Main training loop\n",
        "    for epoch in range(num_epochs):\n",
        "        model.train()  # Set model to training mode\n",
        "\n",
        "        for input_batch, target_batch in train_loader:\n",
        "            optimizer.zero_grad() # Reset loss gradients from previous batch iteration\n",
        "            loss = calc_loss_batch(input_batch, target_batch, model, device)\n",
        "            loss.backward() # Calculate loss gradients\n",
        "            optimizer.step() # Update model weights using loss gradients\n",
        "            tokens_seen += input_batch.numel()\n",
        "            global_step += 1\n",
        "\n",
        "            # Optional evaluation step\n",
        "            if global_step % eval_freq == 0:\n",
        "                train_loss, val_loss = evaluate_model(\n",
        "                    model, train_loader, val_loader, device, eval_iter)\n",
        "                train_losses.append(train_loss)\n",
        "                val_losses.append(val_loss)\n",
        "                track_tokens_seen.append(tokens_seen)\n",
        "                print(f\"Ep {epoch+1} (Step {global_step:06d}): \"\n",
        "                      f\"Train loss {train_loss:.3f}, Val loss {val_loss:.3f}\")\n",
        "\n",
        "        # Print a sample text after each epoch\n",
        "        generate_and_print_sample(\n",
        "            model, tokenizer, device, start_context\n",
        "        )\n",
        "\n",
        "    return train_losses, val_losses, track_tokens_seen\n",
        "\n",
        "\n",
        "def evaluate_model(model, train_loader, val_loader, device, eval_iter):\n",
        "    model.eval()\n",
        "    with torch.no_grad():\n",
        "        train_loss = calc_loss_loader(train_loader, model, device, num_batches=eval_iter)\n",
        "        val_loss = calc_loss_loader(val_loader, model, device, num_batches=eval_iter)\n",
        "    model.train()\n",
        "    return train_loss, val_loss\n",
        "\n",
        "\n",
        "def generate_and_print_sample(model, tokenizer, device, start_context):\n",
        "    model.eval()\n",
        "    context_size = model.pos_emb.weight.shape[0]\n",
        "    encoded = text_to_token_ids(start_context, tokenizer).to(device)\n",
        "    with torch.no_grad():\n",
        "        token_ids = generate_text_simple(\n",
        "            model=model, idx=encoded,\n",
        "            max_new_tokens=50, context_size=context_size\n",
        "        )\n",
        "    decoded_text = token_ids_to_text(token_ids, tokenizer)\n",
        "    print(decoded_text.replace(\"\\n\", \" \"))  # Compact print format\n",
        "    model.train()"
      ],
      "metadata": {
        "id": "yLLuw8QvUFVV"
      },
      "execution_count": null,
      "outputs": []
    },
    {
      "cell_type": "code",
      "source": [
        "import time\n",
        "start_time = time.time()\n",
        "\n",
        "torch.manual_seed(123)\n",
        "model = GPTModel(GPT_CONFIG_124M)\n",
        "model.to(device)\n",
        "optimizer = torch.optim.AdamW(model.parameters(), lr=0.0004, weight_decay=0.1)\n",
        "\n",
        "num_epochs = 10\n",
        "train_losses, val_losses, tokens_seen = train_model_simple(\n",
        "    model, train_loader, val_loader, optimizer, device,\n",
        "    num_epochs=num_epochs, eval_freq=5, eval_iter=5,\n",
        "    start_context=\"Every effort moves you\", tokenizer=tokenizer\n",
        ")\n",
        "\n",
        "\n",
        "end_time = time.time()\n",
        "execution_time_minutes = (end_time - start_time) / 60\n",
        "print(f\"Training completed in {execution_time_minutes:.2f} minutes.\")"
      ],
      "metadata": {
        "id": "Fq8KUGpmUN01"
      },
      "execution_count": null,
      "outputs": []
    },
    {
      "cell_type": "code",
      "source": [
        "import matplotlib.pyplot as plt\n",
        "from matplotlib.ticker import MaxNLocator\n",
        "\n",
        "\n",
        "def plot_losses(epochs_seen, tokens_seen, train_losses, val_losses):\n",
        "    fig, ax1 = plt.subplots(figsize=(5, 3))\n",
        "\n",
        "    # Plot training and validation loss against epochs\n",
        "    ax1.plot(epochs_seen, train_losses, label=\"Training loss\")\n",
        "    ax1.plot(epochs_seen, val_losses, linestyle=\"-.\", label=\"Validation loss\")\n",
        "    ax1.set_xlabel(\"Epochs\")\n",
        "    ax1.set_ylabel(\"Loss\")\n",
        "    ax1.legend(loc=\"upper right\")\n",
        "    ax1.xaxis.set_major_locator(MaxNLocator(integer=True))  # only show integer labels on x-axis\n",
        "\n",
        "    # Create a second x-axis for tokens seen\n",
        "    ax2 = ax1.twiny()  # Create a second x-axis that shares the same y-axis\n",
        "    ax2.plot(tokens_seen, train_losses, alpha=0)  # Invisible plot for aligning ticks\n",
        "    ax2.set_xlabel(\"Tokens seen\")\n",
        "\n",
        "    fig.tight_layout()  # Adjust layout to make room\n",
        "    plt.savefig(\"loss-plot.pdf\")\n",
        "    plt.show()\n",
        "\n",
        "epochs_tensor = torch.linspace(0, num_epochs, len(train_losses))\n",
        "plot_losses(epochs_tensor, tokens_seen, train_losses, val_losses)"
      ],
      "metadata": {
        "id": "MYqqajWVUZgk"
      },
      "execution_count": null,
      "outputs": []
    },
    {
      "cell_type": "markdown",
      "source": [
        "#Decoding strategies to control randomness"
      ],
      "metadata": {
        "id": "anYhA0onVHRu"
      }
    },
    {
      "cell_type": "code",
      "source": [
        "model.to(\"cpu\")\n",
        "model.eval()\n",
        "\n",
        "tokenizer = tiktoken.get_encoding(\"gpt2\")\n",
        "\n",
        "token_ids = generate_text_simple(\n",
        "    model=model,\n",
        "    idx=text_to_token_ids(\"Every effort moves you\", tokenizer),\n",
        "    max_new_tokens=25,\n",
        "    context_size=GPT_CONFIG_124M[\"context_length\"]\n",
        ")\n",
        "\n",
        "print(\"Output text:\\n\", token_ids_to_text(token_ids, tokenizer))"
      ],
      "metadata": {
        "id": "kU-crK2MUv3O"
      },
      "execution_count": null,
      "outputs": []
    },
    {
      "cell_type": "markdown",
      "source": [
        "#Temperature scaling"
      ],
      "metadata": {
        "id": "8Rhup7WnVTxc"
      }
    },
    {
      "cell_type": "code",
      "source": [
        "vocab = {\n",
        "    \"closer\": 0,\n",
        "    \"every\": 1,\n",
        "    \"effort\": 2,\n",
        "    \"forward\": 3,\n",
        "    \"inches\": 4,\n",
        "    \"moves\": 5,\n",
        "    \"pizza\": 6,\n",
        "    \"toward\": 7,\n",
        "    \"you\": 8,\n",
        "}\n",
        "\n",
        "inverse_vocab = {v: k for k, v in vocab.items()}\n",
        "\n",
        "# Suppose input is \"every effort moves you\", and the LLM\n",
        "# returns the following logits for the next token:\n",
        "next_token_logits = torch.tensor(\n",
        "    [4.51, 0.89, -1.90, 6.75, 1.63, -1.62, -1.89, 6.28, 1.79]\n",
        ")\n",
        "\n",
        "probas = torch.softmax(next_token_logits, dim=0)\n",
        "next_token_id = torch.argmax(probas).item()\n",
        "\n",
        "# The next generated token is then as follows:\n",
        "print(inverse_vocab[next_token_id])"
      ],
      "metadata": {
        "id": "QHJWN0i_VMMX"
      },
      "execution_count": null,
      "outputs": []
    },
    {
      "cell_type": "code",
      "source": [
        "torch.manual_seed(123)\n",
        "next_token_id = torch.multinomial(probas, num_samples=1).item()\n",
        "print(inverse_vocab[next_token_id])"
      ],
      "metadata": {
        "id": "16mrZuM-V2jk"
      },
      "execution_count": null,
      "outputs": []
    },
    {
      "cell_type": "code",
      "source": [
        "def print_sampled_tokens(probas):\n",
        "    torch.manual_seed(123) # Manual seed for reproducibility\n",
        "    sample = [torch.multinomial(probas, num_samples=1).item() for i in range(1_000)]\n",
        "    sampled_ids = torch.bincount(torch.tensor(sample), minlength=len(probas))\n",
        "    for i, freq in enumerate(sampled_ids):\n",
        "        print(f\"{freq} x {inverse_vocab[i]}\")\n",
        "\n",
        "print_sampled_tokens(probas)"
      ],
      "metadata": {
        "id": "2t0ldcVWWDKw"
      },
      "execution_count": null,
      "outputs": []
    },
    {
      "cell_type": "code",
      "source": [
        "def softmax_with_temperature(logits, temperature):\n",
        "    scaled_logits = logits / temperature\n",
        "    return torch.softmax(scaled_logits, dim=0)\n",
        "\n",
        "# Temperature values\n",
        "temperatures = [1, 0.1, 5]  # Original, higher confidence, and lower confidence\n",
        "\n",
        "# Calculate scaled probabilities\n",
        "scaled_probas = [softmax_with_temperature(next_token_logits, T) for T in temperatures]"
      ],
      "metadata": {
        "id": "h0B5cvWYWFJm"
      },
      "execution_count": null,
      "outputs": []
    },
    {
      "cell_type": "code",
      "source": [
        "# Plotting\n",
        "x = torch.arange(len(vocab))\n",
        "bar_width = 0.15\n",
        "\n",
        "fig, ax = plt.subplots(figsize=(5, 3))\n",
        "for i, T in enumerate(temperatures):\n",
        "    rects = ax.bar(x + i * bar_width, scaled_probas[i], bar_width, label=f'Temperature = {T}')\n",
        "\n",
        "ax.set_ylabel('Probability')\n",
        "ax.set_xticks(x)\n",
        "ax.set_xticklabels(vocab.keys(), rotation=90)\n",
        "ax.legend()\n",
        "\n",
        "plt.tight_layout()\n",
        "plt.savefig(\"temperature-plot.pdf\")\n",
        "plt.show()"
      ],
      "metadata": {
        "id": "spxE5FajWHrl"
      },
      "execution_count": null,
      "outputs": []
    },
    {
      "cell_type": "code",
      "source": [
        "print_sampled_tokens(scaled_probas[1])"
      ],
      "metadata": {
        "id": "L-62VtR7WJTC"
      },
      "execution_count": null,
      "outputs": []
    },
    {
      "cell_type": "markdown",
      "source": [
        "#Top-k sampling"
      ],
      "metadata": {
        "id": "9hgck-0ZWPkB"
      }
    },
    {
      "cell_type": "code",
      "source": [
        "top_k = 3\n",
        "top_logits, top_pos = torch.topk(next_token_logits, top_k)\n",
        "\n",
        "print(\"Top logits:\", top_logits)\n",
        "print(\"Top positions:\", top_pos)"
      ],
      "metadata": {
        "id": "PBDdB8ZeWMbX"
      },
      "execution_count": null,
      "outputs": []
    },
    {
      "cell_type": "code",
      "source": [
        "new_logits = torch.where(\n",
        "    condition=next_token_logits < top_logits[-1],\n",
        "    input=torch.tensor(float(\"-inf\")),\n",
        "    other=next_token_logits\n",
        ")\n",
        "\n",
        "print(new_logits)"
      ],
      "metadata": {
        "id": "N89Q2cMMWSp3"
      },
      "execution_count": null,
      "outputs": []
    },
    {
      "cell_type": "code",
      "source": [
        "topk_probas = torch.softmax(new_logits, dim=0)\n",
        "print(topk_probas)"
      ],
      "metadata": {
        "id": "FwQZ9e39WUqD"
      },
      "execution_count": null,
      "outputs": []
    },
    {
      "cell_type": "markdown",
      "source": [
        "#Modifying the text generation function"
      ],
      "metadata": {
        "id": "E4AY071JWbJM"
      }
    },
    {
      "cell_type": "code",
      "source": [
        "def generate(model, idx, max_new_tokens, context_size, temperature=0.0, top_k=None, eos_id=None):\n",
        "\n",
        "    # For-loop is the same as before: Get logits, and only focus on last time step\n",
        "    for _ in range(max_new_tokens):\n",
        "        idx_cond = idx[:, -context_size:]\n",
        "        with torch.no_grad():\n",
        "            logits = model(idx_cond)\n",
        "        logits = logits[:, -1, :]\n",
        "\n",
        "        # New: Filter logits with top_k sampling\n",
        "        if top_k is not None:\n",
        "            # Keep only top_k values\n",
        "            top_logits, _ = torch.topk(logits, top_k)\n",
        "            min_val = top_logits[:, -1]\n",
        "            logits = torch.where(logits < min_val, torch.tensor(float(\"-inf\")).to(logits.device), logits)\n",
        "\n",
        "        # New: Apply temperature scaling\n",
        "        if temperature > 0.0:\n",
        "            logits = logits / temperature\n",
        "\n",
        "            # New (not in book): numerical stability tip to get equivalent results on mps device\n",
        "            # subtract rowwise max before softmax\n",
        "            logits = logits - logits.max(dim=-1, keepdim=True).values\n",
        "\n",
        "            # Apply softmax to get probabilities\n",
        "            probs = torch.softmax(logits, dim=-1)  # (batch_size, context_len)\n",
        "\n",
        "            # Sample from the distribution\n",
        "            idx_next = torch.multinomial(probs, num_samples=1)  # (batch_size, 1)\n",
        "\n",
        "        # Otherwise same as before: get idx of the vocab entry with the highest logits value\n",
        "        else:\n",
        "            idx_next = torch.argmax(logits, dim=-1, keepdim=True)  # (batch_size, 1)\n",
        "\n",
        "        if idx_next == eos_id:  # Stop generating early if end-of-sequence token is encountered and eos_id is specified\n",
        "            break\n",
        "\n",
        "        # Same as before: append sampled index to the running sequence\n",
        "        idx = torch.cat((idx, idx_next), dim=1)  # (batch_size, num_tokens+1)\n",
        "\n",
        "    return idx"
      ],
      "metadata": {
        "id": "SyTwbv8GWZH6"
      },
      "execution_count": null,
      "outputs": []
    },
    {
      "cell_type": "code",
      "source": [
        "torch.manual_seed(123)\n",
        "\n",
        "token_ids = generate(\n",
        "    model=model,\n",
        "    idx=text_to_token_ids(\"Every effort moves you\", tokenizer),\n",
        "    max_new_tokens=15,\n",
        "    context_size=GPT_CONFIG_124M[\"context_length\"],\n",
        "    top_k=25,\n",
        "    temperature=1.4\n",
        ")\n",
        "\n",
        "print(\"Output text:\\n\", token_ids_to_text(token_ids, tokenizer))"
      ],
      "metadata": {
        "id": "JqhCbgQYWgmV"
      },
      "execution_count": null,
      "outputs": []
    },
    {
      "cell_type": "markdown",
      "source": [
        "# Loading and saving model weights in PyTorch"
      ],
      "metadata": {
        "id": "t3rh3CevWo0U"
      }
    },
    {
      "cell_type": "code",
      "source": [
        "torch.save(model.state_dict(), \"model.pth\")"
      ],
      "metadata": {
        "id": "w_OcfLnzWjH9"
      },
      "execution_count": null,
      "outputs": []
    },
    {
      "cell_type": "code",
      "source": [
        "model = GPTModel(GPT_CONFIG_124M)\n",
        "device = torch.device(\"cuda\" if torch.cuda.is_available() else \"cpu\")\n",
        "model.load_state_dict(torch.load(\"model.pth\", map_location=device, weights_only=True))\n",
        "model.eval();"
      ],
      "metadata": {
        "id": "EtqqIfpdWreN"
      },
      "execution_count": null,
      "outputs": []
    },
    {
      "cell_type": "code",
      "source": [
        "torch.save({\n",
        "    \"model_state_dict\": model.state_dict(),\n",
        "    \"optimizer_state_dict\": optimizer.state_dict(),\n",
        "    },\n",
        "    \"model_and_optimizer.pth\"\n",
        ")"
      ],
      "metadata": {
        "id": "KGoBJNodW081"
      },
      "execution_count": null,
      "outputs": []
    },
    {
      "cell_type": "code",
      "source": [
        "checkpoint = torch.load(\"model_and_optimizer.pth\", weights_only=True)\n",
        "\n",
        "model = GPTModel(GPT_CONFIG_124M)\n",
        "model.load_state_dict(checkpoint[\"model_state_dict\"])\n",
        "\n",
        "optimizer = torch.optim.AdamW(model.parameters(), lr=0.0005, weight_decay=0.1)\n",
        "optimizer.load_state_dict(checkpoint[\"optimizer_state_dict\"])\n",
        "model.train();"
      ],
      "metadata": {
        "id": "GC1vdzZtW4Ma"
      },
      "execution_count": null,
      "outputs": []
    },
    {
      "cell_type": "markdown",
      "source": [
        "# Loading pretrained weights from OpenAI"
      ],
      "metadata": {
        "id": "HuW3RU8YXc0T"
      }
    },
    {
      "cell_type": "code",
      "source": [
        "BASE_CONFIG = {\n",
        "    \"vocab_size\": 50257,\n",
        "    \"context_length\": 1024,\n",
        "    \"emb_dim\": 768,\n",
        "    \"n_heads\": 12,\n",
        "    \"n_layers\": 12,\n",
        "    \"drop_rate\": 0.1,\n",
        "    \"qkv_bias\": True,\n",
        "}\n"
      ],
      "metadata": {
        "id": "VDSjSbSiZyFm"
      },
      "execution_count": null,
      "outputs": []
    },
    {
      "cell_type": "code",
      "source": [
        "NEW_CONFIG = {\n",
        "    \"vocab_size\": 50257,\n",
        "    \"context_length\": 256,\n",
        "    \"emb_dim\": 768,\n",
        "    \"n_heads\": 12,\n",
        "    \"n_layers\": 12,\n",
        "    \"drop_rate\": 0.1,\n",
        "    \"qkv_bias\": True,\n",
        "}\n"
      ],
      "metadata": {
        "id": "N8HleMjSZzUB"
      },
      "execution_count": null,
      "outputs": []
    },
    {
      "cell_type": "code",
      "source": [
        "import os\n",
        "import urllib.request\n",
        "file_name = \"gpt2-small-124M.pth\"\n",
        "url = f\"https://huggingface.co/rasbt/gpt2-from-scratch-pytorch/resolve/main/{file_name}\"\n",
        "\n",
        "if not os.path.exists(file_name):\n",
        "    urllib.request.urlretrieve(url, file_name)\n",
        "    print(f\"Downloaded to {file_name}\")\n",
        "\n",
        "gpt = GPTModel(BASE_CONFIG)\n",
        "gpt.load_state_dict(torch.load(file_name, weights_only=True))\n",
        "gpt.eval()\n",
        "\n",
        "device = torch.device(\"cuda\" if torch.cuda.is_available() else \"cpu\")\n",
        "gpt.to(device);\n",
        "\n",
        "\n",
        "torch.manual_seed(123)\n",
        "\n",
        "token_ids = generate(\n",
        "    model=gpt,\n",
        "    idx=text_to_token_ids(\"Every effort moves you\", tokenizer).to(device),\n",
        "    max_new_tokens=25,\n",
        "    context_size=NEW_CONFIG[\"context_length\"],\n",
        "    top_k=50,\n",
        "    temperature=1.5\n",
        ")\n",
        "\n",
        "print(\"Output text:\\n\", token_ids_to_text(token_ids, tokenizer))"
      ],
      "metadata": {
        "id": "Xo0rBAc0XB-2"
      },
      "execution_count": null,
      "outputs": []
    },
    {
      "cell_type": "markdown",
      "source": [
        "# Unloading the weights from open-ai ( originally form tensorflow ) into pytorch"
      ],
      "metadata": {
        "id": "XdDBf2ElaUGL"
      }
    },
    {
      "cell_type": "code",
      "source": [
        "!pip install tensorflow tqdm"
      ],
      "metadata": {
        "collapsed": true,
        "id": "kblW5HkIaTXT"
      },
      "execution_count": null,
      "outputs": []
    },
    {
      "cell_type": "code",
      "source": [
        "print(\"TensorFlow version:\", version(\"tensorflow\"))\n",
        "print(\"tqdm version:\", version(\"tqdm\"))"
      ],
      "metadata": {
        "id": "kGlNLMBDXivJ"
      },
      "execution_count": null,
      "outputs": []
    },
    {
      "cell_type": "code",
      "source": [
        "import os\n",
        "\n",
        "import requests\n",
        "import json\n",
        "import numpy as np\n",
        "import tensorflow as tf\n",
        "from tqdm import tqdm\n",
        "\n",
        "\n",
        "def download_and_load_gpt2(model_size, models_dir):\n",
        "    # Validate model size\n",
        "    allowed_sizes = (\"124M\", \"355M\", \"774M\", \"1558M\")\n",
        "    if model_size not in allowed_sizes:\n",
        "        raise ValueError(f\"Model size not in {allowed_sizes}\")\n",
        "\n",
        "    # Define paths\n",
        "    model_dir = os.path.join(models_dir, model_size)\n",
        "    base_url = \"https://openaipublic.blob.core.windows.net/gpt-2/models\"\n",
        "    backup_base_url = \"https://f001.backblazeb2.com/file/LLMs-from-scratch/gpt2\"\n",
        "    filenames = [\n",
        "        \"checkpoint\", \"encoder.json\", \"hparams.json\",\n",
        "        \"model.ckpt.data-00000-of-00001\", \"model.ckpt.index\",\n",
        "        \"model.ckpt.meta\", \"vocab.bpe\"\n",
        "    ]\n",
        "\n",
        "    # Download files\n",
        "    os.makedirs(model_dir, exist_ok=True)\n",
        "    for filename in filenames:\n",
        "        file_url = os.path.join(base_url, model_size, filename)\n",
        "        backup_url = os.path.join(backup_base_url, model_size, filename)\n",
        "        file_path = os.path.join(model_dir, filename)\n",
        "        download_file(file_url, file_path, backup_url)\n",
        "\n",
        "    # Load settings and params\n",
        "    tf_ckpt_path = tf.train.latest_checkpoint(model_dir)\n",
        "    settings = json.load(open(os.path.join(model_dir, \"hparams.json\"), \"r\", encoding=\"utf-8\"))\n",
        "    params = load_gpt2_params_from_tf_ckpt(tf_ckpt_path, settings)\n",
        "\n",
        "    return settings, params\n",
        "\n",
        "\n",
        "def download_file(url, destination, backup_url=None):\n",
        "    def _attempt_download(download_url):\n",
        "        response = requests.get(download_url, stream=True, timeout=60)\n",
        "        response.raise_for_status()\n",
        "\n",
        "        file_size = int(response.headers.get(\"Content-Length\", 0))\n",
        "\n",
        "        # Check if file exists and has same size\n",
        "        if os.path.exists(destination):\n",
        "            file_size_local = os.path.getsize(destination)\n",
        "            if file_size and file_size == file_size_local:\n",
        "                print(f\"File already exists and is up-to-date: {destination}\")\n",
        "                return True\n",
        "\n",
        "        block_size = 1024  # 1 KB\n",
        "        desc = os.path.basename(download_url)\n",
        "        with tqdm(total=file_size, unit=\"iB\", unit_scale=True, desc=desc) as progress_bar:\n",
        "            with open(destination, \"wb\") as file:\n",
        "                for chunk in response.iter_content(chunk_size=block_size):\n",
        "                    if chunk:\n",
        "                        file.write(chunk)\n",
        "                        progress_bar.update(len(chunk))\n",
        "        return True\n",
        "\n",
        "    try:\n",
        "        if _attempt_download(url):\n",
        "            return\n",
        "    except requests.exceptions.RequestException:\n",
        "        if backup_url is not None:\n",
        "            print(f\"Primary URL ({url}) failed. Attempting backup URL: {backup_url}\")\n",
        "            try:\n",
        "                if _attempt_download(backup_url):\n",
        "                    return\n",
        "            except requests.exceptions.RequestException:\n",
        "                pass\n",
        "\n",
        "        error_message = (\n",
        "            f\"Failed to download from both primary URL ({url})\"\n",
        "            f\"{' and backup URL (' + backup_url + ')' if backup_url else ''}.\"\n",
        "            \"\\nCheck your internet connection or the file availability.\\n\"\n",
        "            \"For help, visit: https://github.com/rasbt/LLMs-from-scratch/discussions/273\"\n",
        "        )\n",
        "        print(error_message)\n",
        "    except Exception as e:\n",
        "        print(f\"An unexpected error occurred: {e}\")\n",
        "\n",
        "def load_gpt2_params_from_tf_ckpt(ckpt_path, settings):\n",
        "    # Initialize parameters dictionary with empty blocks for each layer\n",
        "    params = {\"blocks\": [{} for _ in range(settings[\"n_layer\"])]}\n",
        "\n",
        "    # Iterate over each variable in the checkpoint\n",
        "    for name, _ in tf.train.list_variables(ckpt_path):\n",
        "        # Load the variable and remove singleton dimensions\n",
        "        variable_array = np.squeeze(tf.train.load_variable(ckpt_path, name))\n",
        "\n",
        "        # Process the variable name to extract relevant parts\n",
        "        variable_name_parts = name.split(\"/\")[1:]  # Skip the 'model/' prefix\n",
        "\n",
        "        # Identify the target dictionary for the variable\n",
        "        target_dict = params\n",
        "        if variable_name_parts[0].startswith(\"h\"):\n",
        "            layer_number = int(variable_name_parts[0][1:])\n",
        "            target_dict = params[\"blocks\"][layer_number]\n",
        "\n",
        "        # Recursively access or create nested dictionaries\n",
        "        for key in variable_name_parts[1:-1]:\n",
        "            target_dict = target_dict.setdefault(key, {})\n",
        "\n",
        "        # Assign the variable array to the last key\n",
        "        last_key = variable_name_parts[-1]\n",
        "        target_dict[last_key] = variable_array\n",
        "\n",
        "    return params"
      ],
      "metadata": {
        "id": "zHIHa8h5bZHu"
      },
      "execution_count": null,
      "outputs": []
    },
    {
      "cell_type": "code",
      "source": [
        "settings, params = download_and_load_gpt2(model_size=\"124M\", models_dir=\"gpt2\")"
      ],
      "metadata": {
        "id": "CnMU2puxagaO"
      },
      "execution_count": null,
      "outputs": []
    },
    {
      "cell_type": "code",
      "source": [
        "print(\"Settings:\", settings)"
      ],
      "metadata": {
        "id": "Lal3skIyaqKC"
      },
      "execution_count": null,
      "outputs": []
    },
    {
      "cell_type": "code",
      "source": [
        "print(\"Parameter dictionary keys:\", params.keys())"
      ],
      "metadata": {
        "id": "RX-Sqnnncwwx"
      },
      "execution_count": null,
      "outputs": []
    },
    {
      "cell_type": "code",
      "source": [
        "print(params[\"wte\"])\n",
        "print(\"Token embedding weight tensor dimensions:\", params[\"wte\"].shape)"
      ],
      "metadata": {
        "id": "PpGFXup2cytX"
      },
      "execution_count": null,
      "outputs": []
    },
    {
      "cell_type": "code",
      "source": [
        "model_configs = {\n",
        "    \"gpt2-small (124M)\": {\"emb_dim\": 768, \"n_layers\": 12, \"n_heads\": 12},\n",
        "    \"gpt2-medium (355M)\": {\"emb_dim\": 1024, \"n_layers\": 24, \"n_heads\": 16},\n",
        "    \"gpt2-large (774M)\": {\"emb_dim\": 1280, \"n_layers\": 36, \"n_heads\": 20},\n",
        "    \"gpt2-xl (1558M)\": {\"emb_dim\": 1600, \"n_layers\": 48, \"n_heads\": 25},\n",
        "}\n",
        "\n",
        "# Copy the base configuration and update with specific model settings\n",
        "model_name = \"gpt2-small (124M)\"  # Example model name\n",
        "NEW_CONFIG = GPT_CONFIG_124M.copy()\n",
        "NEW_CONFIG.update(model_configs[model_name])\n",
        "NEW_CONFIG.update({\"context_length\": 1024, \"qkv_bias\": True})\n",
        "\n",
        "gpt = GPTModel(NEW_CONFIG)\n",
        "gpt.eval();"
      ],
      "metadata": {
        "id": "SQ9f6qYVc0L0"
      },
      "execution_count": null,
      "outputs": []
    },
    {
      "cell_type": "code",
      "source": [
        "def assign(left, right):\n",
        "    if left.shape != right.shape:\n",
        "        raise ValueError(f\"Shape mismatch. Left: {left.shape}, Right: {right.shape}\")\n",
        "    return torch.nn.Parameter(torch.tensor(right))"
      ],
      "metadata": {
        "id": "DyjEYK3sdAW3"
      },
      "execution_count": null,
      "outputs": []
    },
    {
      "cell_type": "code",
      "source": [
        "import numpy as np\n",
        "\n",
        "def load_weights_into_gpt(gpt, params):\n",
        "    gpt.pos_emb.weight = assign(gpt.pos_emb.weight, params['wpe'])\n",
        "    gpt.tok_emb.weight = assign(gpt.tok_emb.weight, params['wte'])\n",
        "\n",
        "    for b in range(len(params[\"blocks\"])):\n",
        "        q_w, k_w, v_w = np.split(\n",
        "            (params[\"blocks\"][b][\"attn\"][\"c_attn\"])[\"w\"], 3, axis=-1)\n",
        "        gpt.trf_blocks[b].att.W_query.weight = assign(\n",
        "            gpt.trf_blocks[b].att.W_query.weight, q_w.T)\n",
        "        gpt.trf_blocks[b].att.W_key.weight = assign(\n",
        "            gpt.trf_blocks[b].att.W_key.weight, k_w.T)\n",
        "        gpt.trf_blocks[b].att.W_value.weight = assign(\n",
        "            gpt.trf_blocks[b].att.W_value.weight, v_w.T)\n",
        "\n",
        "        q_b, k_b, v_b = np.split(\n",
        "            (params[\"blocks\"][b][\"attn\"][\"c_attn\"])[\"b\"], 3, axis=-1)\n",
        "        gpt.trf_blocks[b].att.W_query.bias = assign(\n",
        "            gpt.trf_blocks[b].att.W_query.bias, q_b)\n",
        "        gpt.trf_blocks[b].att.W_key.bias = assign(\n",
        "            gpt.trf_blocks[b].att.W_key.bias, k_b)\n",
        "        gpt.trf_blocks[b].att.W_value.bias = assign(\n",
        "            gpt.trf_blocks[b].att.W_value.bias, v_b)\n",
        "\n",
        "        gpt.trf_blocks[b].att.out_proj.weight = assign(\n",
        "            gpt.trf_blocks[b].att.out_proj.weight,\n",
        "            params[\"blocks\"][b][\"attn\"][\"c_proj\"][\"w\"].T)\n",
        "        gpt.trf_blocks[b].att.out_proj.bias = assign(\n",
        "            gpt.trf_blocks[b].att.out_proj.bias,\n",
        "            params[\"blocks\"][b][\"attn\"][\"c_proj\"][\"b\"])\n",
        "\n",
        "        gpt.trf_blocks[b].ff.layers[0].weight = assign(\n",
        "            gpt.trf_blocks[b].ff.layers[0].weight,\n",
        "            params[\"blocks\"][b][\"mlp\"][\"c_fc\"][\"w\"].T)\n",
        "        gpt.trf_blocks[b].ff.layers[0].bias = assign(\n",
        "            gpt.trf_blocks[b].ff.layers[0].bias,\n",
        "            params[\"blocks\"][b][\"mlp\"][\"c_fc\"][\"b\"])\n",
        "        gpt.trf_blocks[b].ff.layers[2].weight = assign(\n",
        "            gpt.trf_blocks[b].ff.layers[2].weight,\n",
        "            params[\"blocks\"][b][\"mlp\"][\"c_proj\"][\"w\"].T)\n",
        "        gpt.trf_blocks[b].ff.layers[2].bias = assign(\n",
        "            gpt.trf_blocks[b].ff.layers[2].bias,\n",
        "            params[\"blocks\"][b][\"mlp\"][\"c_proj\"][\"b\"])\n",
        "\n",
        "        gpt.trf_blocks[b].norm1.scale = assign(\n",
        "            gpt.trf_blocks[b].norm1.scale,\n",
        "            params[\"blocks\"][b][\"ln_1\"][\"g\"])\n",
        "        gpt.trf_blocks[b].norm1.shift = assign(\n",
        "            gpt.trf_blocks[b].norm1.shift,\n",
        "            params[\"blocks\"][b][\"ln_1\"][\"b\"])\n",
        "        gpt.trf_blocks[b].norm2.scale = assign(\n",
        "            gpt.trf_blocks[b].norm2.scale,\n",
        "            params[\"blocks\"][b][\"ln_2\"][\"g\"])\n",
        "        gpt.trf_blocks[b].norm2.shift = assign(\n",
        "            gpt.trf_blocks[b].norm2.shift,\n",
        "            params[\"blocks\"][b][\"ln_2\"][\"b\"])\n",
        "\n",
        "    gpt.final_norm.scale = assign(gpt.final_norm.scale, params[\"g\"])\n",
        "    gpt.final_norm.shift = assign(gpt.final_norm.shift, params[\"b\"])\n",
        "    gpt.out_head.weight = assign(gpt.out_head.weight, params[\"wte\"])\n",
        "\n",
        "\n",
        "load_weights_into_gpt(gpt, params)\n",
        "gpt.to(device);"
      ],
      "metadata": {
        "id": "clrbxKjqdCzt"
      },
      "execution_count": null,
      "outputs": []
    },
    {
      "cell_type": "markdown",
      "source": [
        "# I have transfered open-ai weights into my model"
      ],
      "metadata": {
        "id": "GuxL_WU2dJ4K"
      }
    },
    {
      "cell_type": "code",
      "source": [
        "torch.manual_seed(123)\n",
        "\n",
        "token_ids = generate(\n",
        "    model=gpt,\n",
        "    idx=text_to_token_ids(\"Every effort moves you\", tokenizer).to(device),\n",
        "    max_new_tokens=25,\n",
        "    context_size=NEW_CONFIG[\"context_length\"],\n",
        "    top_k=50,\n",
        "    temperature=1.5\n",
        ")\n",
        "\n",
        "print(\"Output text:\\n\", token_ids_to_text(token_ids, tokenizer))"
      ],
      "metadata": {
        "id": "QRBGrr7YdHLB"
      },
      "execution_count": null,
      "outputs": []
    },
    {
      "cell_type": "markdown",
      "source": [
        "# loading my offline gpt model"
      ],
      "metadata": {
        "id": "E_vBxrDF__KH"
      }
    },
    {
      "cell_type": "code",
      "source": [
        "import tiktoken\n",
        "\n",
        "def text_to_token_ids(text, tokenizer):\n",
        "    encoded = tokenizer.encode(text, allowed_special={'<|endoftext|>'})\n",
        "    encoded_tensor = torch.tensor(encoded).unsqueeze(0) # add batch dimension\n",
        "    return encoded_tensor\n",
        "\n",
        "def token_ids_to_text(token_ids, tokenizer):\n",
        "    flat = token_ids.squeeze(0) # remove batch dimension\n",
        "    return tokenizer.decode(flat.tolist())"
      ],
      "metadata": {
        "id": "JkVhZiXNHUQz"
      },
      "execution_count": null,
      "outputs": []
    },
    {
      "cell_type": "code",
      "source": [
        "torch.manual_seed(123)\n",
        "\n",
        "token_ids = generate(\n",
        "    model=gpt,\n",
        "    idx=text_to_token_ids(\"Every effort moves you\", tokenizer).to(device),\n",
        "    max_new_tokens=25,\n",
        "    context_size=NEW_CONFIG[\"context_length\"],\n",
        "    top_k=50,\n",
        "    temperature=1.5\n",
        ")\n",
        "\n",
        "print(\"Output text:\\n\", token_ids_to_text(token_ids, tokenizer))"
      ],
      "metadata": {
        "id": "gGAdzqYjD5fD"
      },
      "execution_count": null,
      "outputs": []
    },
    {
      "cell_type": "code",
      "source": [
        "torch.manual_seed(123)\n",
        "\n",
        "token_ids = generate(\n",
        "    model=gpt,\n",
        "    idx=text_to_token_ids(\"hello manas \", tokenizer).to(device),\n",
        "    max_new_tokens=100,\n",
        "    context_size=NEW_CONFIG[\"context_length\"],\n",
        "    top_k=50,\n",
        "    temperature=1.5\n",
        ")\n",
        "\n",
        "print(\"Output text:\\n\", token_ids_to_text(token_ids, tokenizer))"
      ],
      "metadata": {
        "id": "SMkhKtZ9GKha"
      },
      "execution_count": null,
      "outputs": []
    },
    {
      "cell_type": "code",
      "source": [
        "from transformers import GPT2Tokenizer, GPT2LMHeadModel\n",
        "import torch\n",
        "\n",
        "\n",
        "# Load tokenizer from Hugging Face's pretrained files\n",
        "tokenizer = GPT2Tokenizer.from_pretrained(\"gpt2\")\n",
        "\n",
        "# Load model structure\n",
        "model = GPT2LMHeadModel.from_pretrained(\"gpt2\")\n",
        "\n",
        "# Load your custom weights\n",
        "model.load_state_dict(torch.load(\"/content/model.pth\", map_location=\"cpu\"))\n",
        "\n",
        "# Save your model + tokenizer to one folder\n",
        "model.save_pretrained(\"/content/yash_gpt2_model\")\n",
        "tokenizer.save_pretrained(\"/content/yash_gpt2_model\")\n"
      ],
      "metadata": {
        "id": "HernsWW_OxIH"
      },
      "execution_count": null,
      "outputs": []
    },
    {
      "cell_type": "code",
      "source": [],
      "metadata": {
        "id": "Dz3bzdM-Wkoj"
      },
      "execution_count": null,
      "outputs": []
    }
  ]
}